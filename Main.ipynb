{
 "cells": [
  {
   "cell_type": "markdown",
   "id": "170d702c",
   "metadata": {},
   "source": [
    "# Progettino AQM"
   ]
  },
  {
   "cell_type": "markdown",
   "id": "8bf56f67",
   "metadata": {},
   "source": [
    "# Alla ricerca dell' autovalore dell'hamiltoniana dello stato fondamentale\n",
    "\n",
    "#### Autori:\n",
    "Dott. Michele Grossi<br>\n",
    "Francesco De Luca<br>\n",
    "Ian Gremese<br>\n",
    "Carlo Zollo"
   ]
  },
  {
   "cell_type": "markdown",
   "id": "2d347d55-fff6-494e-9667-60ba18b085a3",
   "metadata": {},
   "source": [
    "##### Cose che sarebbe interessante integrare prima della fine\n",
    "Guardare oltre che le energie anche la forma dei singoli gs <br>\n",
    "Trovare un modo per misurare le prestazioni <br>\n",
    "Hardware reale è tanta sbatta <br>\n",
    "Trovare simmetrie nell'hamiltoniana per ottimizzare ansatz<br>\n",
    "Riuscire a scrivere circuito associato all'hamiltoniana(come? per quanti gates)?<br>"
   ]
  },
  {
   "cell_type": "markdown",
   "id": "bbb5cf16",
   "metadata": {
    "tags": []
   },
   "source": [
    "### Armamentario generale, da caricare prima delle diverse operazioni"
   ]
  },
  {
   "cell_type": "markdown",
   "id": "e3ff5523",
   "metadata": {},
   "source": [
    "#### Diagonalizzazione computazionale \"classica\""
   ]
  },
  {
   "cell_type": "markdown",
   "id": "462ede67",
   "metadata": {},
   "source": [
    "Codice funzionale alla compilazione delle hamiltoniane da diagonalizzare."
   ]
  },
  {
   "cell_type": "markdown",
   "id": "e44d94fe-2199-4ae5-93f4-960aabac513a",
   "metadata": {},
   "source": [
    "Importiamo operatori e matrici di Pauli"
   ]
  },
  {
   "cell_type": "code",
   "execution_count": 29,
   "id": "9be4b5da",
   "metadata": {},
   "outputs": [],
   "source": [
    "from qiskit.quantum_info.operators import Operator, Pauli"
   ]
  },
  {
   "cell_type": "markdown",
   "id": "698b4eb0",
   "metadata": {},
   "source": [
    "Funzione per la diagonalizzazione classica di una lista di lunghezza variabile di operatori $\\hat H$, che ha la forma `([H0, H1, H2, ...], )`."
   ]
  },
  {
   "cell_type": "code",
   "execution_count": 30,
   "id": "de4ff67b",
   "metadata": {},
   "outputs": [],
   "source": [
    "import numpy as np\n",
    "from numpy import linalg\n",
    "\n",
    "def class_par_H_diagonalizer(*H):\n",
    "    E_l = []\n",
    "    P_l = []\n",
    "    Eivals = []\n",
    "    GSvals = []\n",
    "    num_qubits = 2\n",
    "\n",
    "    for k in H[0]: #H is ([H0, H1, ...],), so Hj can be selected as H[0][j]\n",
    "        E_l, P_l = linalg.eig(k.data)\n",
    "        E_l = np.real(E_l)\n",
    "        Eivals.append(np.sort(E_l))\n",
    "        GSvals.append(np.min(E_l))\n",
    "        \n",
    "    return GSvals, Eivals"
   ]
  },
  {
   "cell_type": "markdown",
   "id": "882412c8",
   "metadata": {},
   "source": [
    "Funzione per il grafico dei soli valori della diagonalizzazione classica."
   ]
  },
  {
   "cell_type": "code",
   "execution_count": 31,
   "id": "7b34c24c",
   "metadata": {},
   "outputs": [],
   "source": [
    "import matplotlib.pyplot as plt\n",
    "\n",
    "def plot_class(lists):\n",
    "\n",
    "    #plt.rcParams[\"figure.figsize\"] = (20,10)\n",
    "    fig, ax = plt.subplots(figsize=(9,6), dpi=100)#, fontsize=8)\n",
    "\n",
    "    plt.xticks(B)\n",
    "\n",
    "    #ax.scatter(b, energy, marker='o')\n",
    "    ax.scatter(B, lists[0], marker='o')\n",
    "    ax.plot(B, lists[1], color=\"#000000\", linewidth=0.5)\n",
    "\n",
    "    ax.set(xlabel='B field', ylabel='Energy', title='')\n",
    "\n",
    "    ax.grid()\n",
    "    plt.show()"
   ]
  },
  {
   "cell_type": "markdown",
   "id": "121fc0a9",
   "metadata": {},
   "source": [
    "#### Diagonalizzazione quantistica con il VQE"
   ]
  },
  {
   "cell_type": "markdown",
   "id": "56eb3167",
   "metadata": {},
   "source": [
    "Codice per la scrittura delle hamiltoniane da diagonalizzare:"
   ]
  },
  {
   "cell_type": "code",
   "execution_count": 32,
   "id": "1ca9745c",
   "metadata": {},
   "outputs": [],
   "source": [
    "import numpy as np\n",
    "from numpy import linalg\n",
    "from qiskit.opflow import X, Y, Z, I, primitive_ops"
   ]
  },
  {
   "cell_type": "markdown",
   "id": "407cdb0a",
   "metadata": {},
   "source": [
    "Funzione che cerca il minimo autovalore dell'hamiltoniana:"
   ]
  },
  {
   "cell_type": "code",
   "execution_count": 33,
   "id": "f690dc21",
   "metadata": {},
   "outputs": [],
   "source": [
    "from IPython.display import display as ipd_display, clear_output as ipd_clear\n",
    "from qiskit.algorithms import VQE\n",
    "\n",
    "def VQE_par_H_diagonalizer(local_vqe,*H):\n",
    "    \n",
    "    #resetto la funzione di callback\n",
    "    #prima della sua prima chiamata in tutto il ciclo\n",
    "    intermediate_info = {\n",
    "        'nfev': [],\n",
    "        'parameters': [],\n",
    "        'energy': [],\n",
    "        'stddev': []\n",
    "    }\n",
    "    \n",
    "    GSvals = []\n",
    "    meanerr = []\n",
    "    \n",
    "    for i in range(len(H[0])):\n",
    "        ipd_clear(wait=True)\n",
    "        ipd_display(\"%da iterazione di %d\"%(i+1,len(H[0])))\n",
    "    \n",
    "        local_result = local_vqe.compute_minimum_eigenvalue(H[0][i])\n",
    "        GSvals.append(np.real(local_result.eigenvalue))\n",
    "        \n",
    "        meanerr.append(intermediate_info['stddev'][-1])\n",
    "    \n",
    "    ipd_clear(wait=True)\n",
    "    ipd_display(\"Finito.\")\n",
    "    return GSvals, meanerr"
   ]
  },
  {
   "cell_type": "markdown",
   "id": "0b4cb49f",
   "metadata": {},
   "source": [
    "Funzione per la raccolta di dati relativi all'ottimizzazione del VQE:"
   ]
  },
  {
   "cell_type": "code",
   "execution_count": 34,
   "id": "a8f4b864",
   "metadata": {},
   "outputs": [],
   "source": [
    "intermediate_info = {\n",
    "    'nfev': [],\n",
    "    'parameters': [],\n",
    "    'energy': [],\n",
    "    'stddev': []\n",
    "}\n",
    "\n",
    "def callback(nfev, parameters, energy, stddev):\n",
    "    intermediate_info['nfev'].append(nfev)\n",
    "    intermediate_info['parameters'].append(parameters)\n",
    "    intermediate_info['energy'].append(energy)\n",
    "    intermediate_info['stddev'].append(stddev)"
   ]
  },
  {
   "cell_type": "code",
   "execution_count": 35,
   "id": "67a13e88",
   "metadata": {},
   "outputs": [],
   "source": [
    "#import matplotlib as mpl\n",
    "#mpl.rcParams.update({'font.family': 'Linux Libertine', 'text.latex.preamble': r'\\usepackage{lmr}',})"
   ]
  },
  {
   "cell_type": "markdown",
   "id": "3ef995c2",
   "metadata": {},
   "source": [
    "Funzione per il grafico dei valori della diagonalizzazione classica e quantistica:"
   ]
  },
  {
   "cell_type": "code",
   "execution_count": 36,
   "id": "2cdfa673",
   "metadata": {},
   "outputs": [],
   "source": [
    "import matplotlib.pyplot as plt\n",
    "\n",
    "def plot_tot(lists):\n",
    "\n",
    "    #plt.rcParams[\"figure.figsize\"] = (20,10)\n",
    "    fig, ax = plt.subplots(figsize=(9,6), dpi=100)\n",
    "\n",
    "    plt.xticks(B)\n",
    "\n",
    "    #ax.scatter(b, energy, marker='o')\n",
    "    ax.scatter(B, lists[0], marker='o')\n",
    "    ax.plot(B, lists[1], color=\"#000000\", linewidth=0.5)\n",
    "    \n",
    "    #itero sulle diverse tecniche che ho utilizzato\n",
    "    for i in range(2,len(lists)):\n",
    "        ax.scatter(B, lists[i], marker='x')\n",
    "\n",
    "    ax.set(xlabel='B field', ylabel='Energy', title='')\n",
    "\n",
    "    ax.grid()\n",
    "    plt.show()"
   ]
  },
  {
   "cell_type": "markdown",
   "id": "7146b1c4",
   "metadata": {},
   "source": [
    "## Hamiltoniana n. 2: Interazioni anisotrope fra spin in campo magnetico $B$\n",
    "\n",
    "$$\\hat H = - \\sum_{\\substack{i,j=1\\\\i<j}}^n J\\left( \\hat X^{(i)}\\hat X^{(j)} + g_y\\hat Y^{(i)}\\hat Y^{(j)} + g_z\\hat Z^{(i)}\\hat Z^{(j)} \\right) - B \\sum_{i=1}^n Z^{(i)}$$"
   ]
  },
  {
   "cell_type": "markdown",
   "id": "a9e86082",
   "metadata": {},
   "source": [
    "### Valori dei parametri\n",
    "Definiamo i valori dei parametri presenti nell'espressione dell'hamiltoniana:"
   ]
  },
  {
   "cell_type": "markdown",
   "id": "4e3ca33b-2711-4c3c-81f4-b5d4a9a75984",
   "metadata": {},
   "source": [
    "I valori dei parametri dovrebbe passare da un rapporto $B/J$ grande tra termine di campo e spin (circa 4) ad un rapporto piccolo (circa 0.1). Circa citando il paper di grossi, quando il termine di campo è più forte dovremmo tendere ad effetto Zeeman, il GS tende allo stato con tutti gli spin allineati verso il basso. Quando il termine di spin domina invece ci aspettiamo che il GS sia entanglement di stati con spin su e giù."
   ]
  },
  {
   "cell_type": "code",
   "execution_count": 37,
   "id": "b6fb3783",
   "metadata": {},
   "outputs": [],
   "source": [
    "Natoms = 2  ##Il numero di atomi cambierà poi\n",
    "J = -1\n",
    "gy = 0.5\n",
    "gz = 0.\n",
    "B = np.linspace(-4,0,3).tolist()"
   ]
  },
  {
   "cell_type": "markdown",
   "id": "4f30dc02",
   "metadata": {},
   "source": [
    "### Diagonalizzazione computazionale \"classica\""
   ]
  },
  {
   "cell_type": "markdown",
   "id": "bc6eb97c",
   "metadata": {},
   "source": [
    "#### Costruzione di $\\hat H$\n",
    "Costruiamo la lista delle hamiltoniane sui diversi valori di $B$:"
   ]
  },
  {
   "cell_type": "code",
   "execution_count": 38,
   "id": "b9e472fe-672b-4c0f-a0f5-e715aa6d41c7",
   "metadata": {},
   "outputs": [],
   "source": [
    "import numpy as np\n",
    "from qiskit.opflow import X, Y, Z, I\n",
    "\n",
    "##La versione \"classica\" di questa funzione utilizza Operatori del tipo Operators, che un eigensolver classico può utilizzare\n",
    "\n",
    "\n",
    "def Spin_Magnet_Hamilton_class(Natoms,J,gy,gz,B):\n",
    "    \n",
    "    #Builds the N-atoms Hamiltonian for anisotropic Magnetic field-spin interaction\n",
    "\n",
    "    #initialize 0-dimensional Operators\n",
    "    field=Operator([0])\n",
    "    spin=Operator([0])\n",
    "    \n",
    "    #cycle over all qubits\n",
    "    for i in range(Natoms):\n",
    "       \n",
    "        #Adds the spin field interaction for each atom\n",
    "        field=(field^I)+(B*((I^i)^Z))\n",
    "        spin=spin^I\n",
    "        \n",
    "        #implementation for the i-th qubit\n",
    "        #of spin-spin interactions with j-th qubit, with j<i\n",
    "        for j in range(i):\n",
    "            spin += ( J * ((I^j)^X^(I^(i-j-1))^X))\n",
    "            spin += (J*gy*((I^j)^Y^(I^(i-j-1))^Y))\n",
    "            spin += (J*gz*((I^j)^Z^(I^(i-j-1))^Z))\n",
    "            \n",
    "    return(spin+field)"
   ]
  },
  {
   "cell_type": "code",
   "execution_count": 39,
   "id": "87d15c2c",
   "metadata": {},
   "outputs": [],
   "source": [
    "cH = []\n",
    "for k in B:\n",
    "    cH.append(Spin_Magnet_Hamilton_class(Natoms,J,gy,gz,k))"
   ]
  },
  {
   "cell_type": "markdown",
   "id": "bfe37324",
   "metadata": {},
   "source": [
    "#### Algoritmo per risoluzione classica"
   ]
  },
  {
   "cell_type": "markdown",
   "id": "03a22b93",
   "metadata": {},
   "source": [
    "Invochiamo la funzione per la diagonalizzazione classica computazionale:"
   ]
  },
  {
   "cell_type": "code",
   "execution_count": 40,
   "id": "f7e35c59",
   "metadata": {},
   "outputs": [],
   "source": [
    "cGSEigE, EigE = class_par_H_diagonalizer(cH)"
   ]
  },
  {
   "cell_type": "markdown",
   "id": "4f001d9b",
   "metadata": {},
   "source": [
    "Visualizziamo il grafico degli autovalori determinati classicamente:"
   ]
  },
  {
   "cell_type": "code",
   "execution_count": 41,
   "id": "1a5b9d9f",
   "metadata": {},
   "outputs": [
    {
     "data": {
      "image/png": "[encoded data removed]",
      "text/plain": [
       "<Figure size 900x600 with 1 Axes>"
      ]
     },
     "metadata": {
      "needs_background": "light"
     },
     "output_type": "display_data"
    }
   ],
   "source": [
    "plot_class([cGSEigE, EigE])"
   ]
  },
  {
   "cell_type": "markdown",
   "id": "aea7e77b-e133-434f-8eec-590c8a989640",
   "metadata": {},
   "source": [
    "Nota: ci interesserebbe anche trovare gli autovettori per avere qualche insight in più su come si potrebbe ottimizzare l'ansatz."
   ]
  },
  {
   "cell_type": "markdown",
   "id": "c843d1e1",
   "metadata": {},
   "source": [
    "### Diagonalizzazione quantistica con il VQE - Locale"
   ]
  },
  {
   "cell_type": "markdown",
   "id": "218facc2",
   "metadata": {},
   "source": [
    "#### Costruzione di $\\hat H$\n",
    "Costruiamo la lista delle hamiltoniane sui diversi valori di $B$:"
   ]
  },
  {
   "cell_type": "code",
   "execution_count": 42,
   "id": "dc01777f",
   "metadata": {},
   "outputs": [],
   "source": [
    "##La versione quantistica utilizza operatori del tipo PauliOp che è l'unico tipo che l'algoritmo VQE accetta\n",
    "\n",
    "def Spin_Magnet_Hamilton_quant(Natoms,J,gy,gz,B):\n",
    "    \n",
    "    #Builds the N-atoms Hamiltonian for anisotropic Magnetic field-spin interaction\n",
    "    \n",
    "    #initialize 0-dimensional Operators\n",
    "    init = primitive_ops.PauliOp(Pauli('I'*Natoms),0)\n",
    "    field,spins = [init]*2\n",
    "    \n",
    "    #cycle over all qubits\n",
    "    for i in range(Natoms):\n",
    "    \n",
    "        #Adds the spin field interaction for each atom\n",
    "        field += primitive_ops.PauliOp(Pauli('I'*i+'Z'+'I'*(Natoms-i-1)),B)\n",
    "        \n",
    "        #implementation for the i-th qubit\n",
    "        #of spin-spin interactions with j-th qubit, with j<i\n",
    "        for j in range(i):\n",
    "            spins += primitive_ops.PauliOp(Pauli('I'*j+'X'+'I'*(i-j-1)+'X'+'I'*(Natoms-i-1)),J)\n",
    "            spins += primitive_ops.PauliOp(Pauli('I'*j+'Y'+'I'*(i-j-1)+'Y'+'I'*(Natoms-i-1)),J*gy)\n",
    "            spins += primitive_ops.PauliOp(Pauli('I'*j+'Z'+'I'*(i-j-1)+'Z'+'I'*(Natoms-i-1)),J*gz)\n",
    "\n",
    "    return (field+spins),Operator((field+spins).to_matrix())"
   ]
  },
  {
   "cell_type": "code",
   "execution_count": 43,
   "id": "8532ddf0",
   "metadata": {
    "scrolled": true
   },
   "outputs": [],
   "source": [
    "qH = []\n",
    "for k in range(len(B)):\n",
    "    ham, checkmat = Spin_Magnet_Hamilton_quant(Natoms,J,gy,gz,B[k])\n",
    "    #print((checkmat - cH[k])) #dà sempre 0 se l'hamiltoniana è scritta bene\n",
    "    qH.append(ham)"
   ]
  },
  {
   "cell_type": "markdown",
   "id": "35c579f6",
   "metadata": {},
   "source": [
    "#### Algoritmo"
   ]
  },
  {
   "cell_type": "markdown",
   "id": "375310d0",
   "metadata": {},
   "source": [
    "Facciamo una scelta dell'ansatz, fra `EfficientSU2` ecc., impostandone i parametri secondo la definizione che abbiamo dato al nostro problema."
   ]
  },
  {
   "cell_type": "markdown",
   "id": "44c7a185-d45e-4ca2-bc22-2e3bfc2973fd",
   "metadata": {},
   "source": [
    "### Importante\n",
    "La scelta di un buon circuito di ansatz è cruciale per rendere l'algoritmo efficiente. Restringere lo spazio di hilbert ad una dimensione più piccola possibile è molto molto importante. EfficientSU2 è un approccio euristico alla faccenda. Forse leggendo l'articolo di Grossi si capirà qualcosa di più. Finora è chiaro che: <br>\n",
    "-Hamiltoniana commuta con la coniugazione complessa-> Autostati (e quindi GS) sono reali <br>\n",
    "-Hamiltoniana commuta con (Spin Totale)(x + y +z)^2? <br>\n",
    "-Hamiltoniana commuta con Spinz?"
   ]
  },
  {
   "cell_type": "code",
   "execution_count": 44,
   "id": "53fcfdd2",
   "metadata": {},
   "outputs": [
    {
     "data": {
      "image/png": "[encoded data removed]",
      "text/plain": [
       "<Figure size 507.852x144.48 with 1 Axes>"
      ]
     },
     "execution_count": 44,
     "metadata": {},
     "output_type": "execute_result"
    }
   ],
   "source": [
    "from qiskit.circuit.library import EfficientSU2\n",
    "\n",
    "# the rotation gates are chosen randomly, so we set a seed for reproducibility\n",
    "ansatz = EfficientSU2(Natoms, reps=1, entanglement='linear', insert_barriers=True) \n",
    "ansatz.decompose().draw('mpl', style='iqx')"
   ]
  },
  {
   "cell_type": "markdown",
   "id": "1f96f5d2",
   "metadata": {},
   "source": [
    "Scegliamo l'ottimizzatore per il VQE fra `SPSA`, `COBYLA` ecc.: "
   ]
  },
  {
   "cell_type": "code",
   "execution_count": 45,
   "id": "e824f239",
   "metadata": {},
   "outputs": [],
   "source": [
    "import numpy as np\n",
    "from qiskit.algorithms.optimizers import SPSA\n",
    "\n",
    "optimizer = SPSA(maxiter=50)\n",
    "\n",
    "np.random.seed(10)  # seed for reproducibility\n",
    "initial_point = np.random.random(ansatz.num_parameters)"
   ]
  },
  {
   "cell_type": "markdown",
   "id": "de38a47b",
   "metadata": {},
   "source": [
    "Costruiamo la funzione per il VQE con ansatz, ottimizzatore, stato iniziale, \"quantum instance\" e funzione di callback scelti e facciamo eseguire il VQE con i parametri scelti:"
   ]
  },
  {
   "cell_type": "code",
   "execution_count": 46,
   "id": "8af9818a",
   "metadata": {},
   "outputs": [
    {
     "data": {
      "text/plain": [
       "'1a iterazione di 3'"
      ]
     },
     "metadata": {},
     "output_type": "display_data"
    },
    {
     "ename": "IndexError",
     "evalue": "list index out of range",
     "output_type": "error",
     "traceback": [
      "\u001b[0;31m---------------------------------------------------------------------------\u001b[0m",
      "\u001b[0;31mIndexError\u001b[0m                                Traceback (most recent call last)",
      "\u001b[0;32m<ipython-input-46-ae26b47c3196>\u001b[0m in \u001b[0;36m<module>\u001b[0;34m\u001b[0m\n\u001b[1;32m     12\u001b[0m                 callback=callback)\n\u001b[1;32m     13\u001b[0m \u001b[0;34m\u001b[0m\u001b[0m\n\u001b[0;32m---> 14\u001b[0;31m \u001b[0mqGSEigE\u001b[0m\u001b[0;34m,\u001b[0m \u001b[0mmeanerr\u001b[0m \u001b[0;34m=\u001b[0m \u001b[0mVQE_par_H_diagonalizer\u001b[0m\u001b[0;34m(\u001b[0m\u001b[0mlocal_vqe\u001b[0m\u001b[0;34m,\u001b[0m\u001b[0mqH\u001b[0m\u001b[0;34m)\u001b[0m\u001b[0;34m\u001b[0m\u001b[0;34m\u001b[0m\u001b[0m\n\u001b[0m\u001b[1;32m     15\u001b[0m \u001b[0;34m\u001b[0m\u001b[0m\n\u001b[1;32m     16\u001b[0m \u001b[0mprint\u001b[0m\u001b[0;34m(\u001b[0m\u001b[0mtime\u001b[0m\u001b[0;34m.\u001b[0m\u001b[0mtime\u001b[0m\u001b[0;34m(\u001b[0m\u001b[0;34m)\u001b[0m\u001b[0;34m-\u001b[0m\u001b[0mstart_time\u001b[0m\u001b[0;34m)\u001b[0m\u001b[0;34m\u001b[0m\u001b[0;34m\u001b[0m\u001b[0m\n",
      "\u001b[0;32m<ipython-input-33-beb7ae4a67df>\u001b[0m in \u001b[0;36mVQE_par_H_diagonalizer\u001b[0;34m(local_vqe, *H)\u001b[0m\n\u001b[1;32m     23\u001b[0m         \u001b[0mGSvals\u001b[0m\u001b[0;34m.\u001b[0m\u001b[0mappend\u001b[0m\u001b[0;34m(\u001b[0m\u001b[0mnp\u001b[0m\u001b[0;34m.\u001b[0m\u001b[0mreal\u001b[0m\u001b[0;34m(\u001b[0m\u001b[0mlocal_result\u001b[0m\u001b[0;34m.\u001b[0m\u001b[0meigenvalue\u001b[0m\u001b[0;34m)\u001b[0m\u001b[0;34m)\u001b[0m\u001b[0;34m\u001b[0m\u001b[0;34m\u001b[0m\u001b[0m\n\u001b[1;32m     24\u001b[0m \u001b[0;34m\u001b[0m\u001b[0m\n\u001b[0;32m---> 25\u001b[0;31m         \u001b[0mmeanerr\u001b[0m\u001b[0;34m.\u001b[0m\u001b[0mappend\u001b[0m\u001b[0;34m(\u001b[0m\u001b[0mintermediate_info\u001b[0m\u001b[0;34m[\u001b[0m\u001b[0;34m'stddev'\u001b[0m\u001b[0;34m]\u001b[0m\u001b[0;34m[\u001b[0m\u001b[0;34m-\u001b[0m\u001b[0;36m1\u001b[0m\u001b[0;34m]\u001b[0m\u001b[0;34m)\u001b[0m\u001b[0;34m\u001b[0m\u001b[0;34m\u001b[0m\u001b[0m\n\u001b[0m\u001b[1;32m     26\u001b[0m \u001b[0;34m\u001b[0m\u001b[0m\n\u001b[1;32m     27\u001b[0m     \u001b[0mipd_clear\u001b[0m\u001b[0;34m(\u001b[0m\u001b[0mwait\u001b[0m\u001b[0;34m=\u001b[0m\u001b[0;32mTrue\u001b[0m\u001b[0;34m)\u001b[0m\u001b[0;34m\u001b[0m\u001b[0;34m\u001b[0m\u001b[0m\n",
      "\u001b[0;31mIndexError\u001b[0m: list index out of range"
     ]
    }
   ],
   "source": [
    "from qiskit.providers.basicaer import QasmSimulatorPy  # local simulator\n",
    "\n",
    "import time\n",
    "\n",
    "start_time = time.time()\n",
    "\n",
    "\n",
    "local_vqe = VQE(ansatz=ansatz,\n",
    "                optimizer=optimizer,\n",
    "                initial_point=initial_point,\n",
    "                quantum_instance=QasmSimulatorPy(),\n",
    "                callback=callback)\n",
    "\n",
    "qGSEigE, meanerr = VQE_par_H_diagonalizer(local_vqe,qH)\n",
    "\n",
    "print(time.time()-start_time)"
   ]
  },
  {
   "cell_type": "markdown",
   "id": "60f38c36-f370-4bd6-9067-19dcee15365e",
   "metadata": {},
   "source": [
    "Aggiunto una funzione di time alla VQE per verificare che succede con Ottimizzatori diversi. Non è un indicatore troppo veritiero ma ci da un'idea"
   ]
  },
  {
   "cell_type": "markdown",
   "id": "c77c8724",
   "metadata": {},
   "source": [
    "#### Risultati"
   ]
  },
  {
   "cell_type": "markdown",
   "id": "59a2a3da",
   "metadata": {},
   "source": [
    "Visualizzo stime delle energie dei GS e stime degli errori:"
   ]
  },
  {
   "cell_type": "code",
   "execution_count": 20,
   "id": "4eb92b36",
   "metadata": {},
   "outputs": [
    {
     "name": "stdout",
     "output_type": "stream",
     "text": [
      "Eigenvalues: Mean error:\n",
      "-8.0478515625 0.03574278106613496\n",
      "-3.9882812500000004 0.040361363272255896\n",
      "-1.494140625 0.003085144520532254\n"
     ]
    }
   ],
   "source": [
    "print('Eigenvalues:','Mean error:')\n",
    "for i in range(len(qGSEigE)):\n",
    "    print(qGSEigE[i],meanerr[i])"
   ]
  },
  {
   "cell_type": "markdown",
   "id": "61275ca9",
   "metadata": {},
   "source": [
    "Visualizzo il grafico con i risultati classici e della VQE:"
   ]
  },
  {
   "cell_type": "code",
   "execution_count": 21,
   "id": "2e69dd54",
   "metadata": {},
   "outputs": [
    {
     "data": {
      "image/png": "[encoded data removed]",
      "text/plain": [
       "<Figure size 900x600 with 1 Axes>"
      ]
     },
     "metadata": {
      "needs_background": "light"
     },
     "output_type": "display_data"
    }
   ],
   "source": [
    "plot_tot([cGSEigE, EigE, qGSEigE])"
   ]
  },
  {
   "cell_type": "markdown",
   "id": "601e4f2d",
   "metadata": {},
   "source": [
    "### Caso con N atomi"
   ]
  },
  {
   "cell_type": "markdown",
   "id": "d3c44a2e",
   "metadata": {},
   "source": [
    "Riproviamo come prima con più atomi"
   ]
  },
  {
   "cell_type": "code",
   "execution_count": 63,
   "id": "d695ab6a",
   "metadata": {},
   "outputs": [],
   "source": [
    "cH = []\n",
    "Natoms=6 #Cambiamo numero atomi\n",
    "J = -1\n",
    "gy = 0.5\n",
    "gz = 0.\n",
    "B = np.linspace(-4,0,10).tolist()"
   ]
  },
  {
   "cell_type": "markdown",
   "id": "644b016d",
   "metadata": {},
   "source": [
    "#### Diagonalizzazione computazionale \"classica\""
   ]
  },
  {
   "cell_type": "code",
   "execution_count": 64,
   "id": "9fe4ad5b",
   "metadata": {},
   "outputs": [],
   "source": [
    "for k in B:\n",
    "    cH.append(Spin_Magnet_Hamilton_class(Natoms,J,gy,gz,k))"
   ]
  },
  {
   "cell_type": "markdown",
   "id": "ac7f54fa",
   "metadata": {},
   "source": [
    "Sembra che in class_par_H_diagonalizer k.data estragga la matrice sia che sia fatta con opflow sia che sia fatta con la libreria Pauli_operators e quindi funziona comunque"
   ]
  },
  {
   "cell_type": "code",
   "execution_count": 65,
   "id": "d28c123b",
   "metadata": {},
   "outputs": [],
   "source": [
    "cGSEigE, EigE = class_par_H_diagonalizer(cH)"
   ]
  },
  {
   "cell_type": "code",
   "execution_count": 66,
   "id": "64bf0206",
   "metadata": {},
   "outputs": [
    {
     "data": {
      "image/png": "[encoded data removed]",
      "text/plain": [
       "<Figure size 900x600 with 1 Axes>"
      ]
     },
     "metadata": {
      "needs_background": "light"
     },
     "output_type": "display_data"
    }
   ],
   "source": [
    "plot_class([cGSEigE, EigE])"
   ]
  },
  {
   "cell_type": "markdown",
   "id": "2b3f26d0",
   "metadata": {},
   "source": [
    "#### Diagonalizzazione quantistica con il VQE"
   ]
  },
  {
   "cell_type": "code",
   "execution_count": 67,
   "id": "d0c5632d",
   "metadata": {},
   "outputs": [],
   "source": [
    "qH = []\n",
    "for k in range(len(B)):\n",
    "    ham, checkmat = Spin_Magnet_Hamilton_quant(Natoms,J,gy,gz,B[k])\n",
    "    #print((checkmat - cH[k])) dà sempre 0 se l'hamiltoniana è scritta bene\n",
    "    qH.append(ham)"
   ]
  },
  {
   "cell_type": "markdown",
   "id": "7a289aa2",
   "metadata": {},
   "source": [
    "Ora proviamo a vedere se riusciamo a fare vqe. Prima in locale poi con il runtime (Sui simulatori/Hardware vero dell'IBM)"
   ]
  },
  {
   "cell_type": "code",
   "execution_count": 68,
   "id": "ea1f932f",
   "metadata": {},
   "outputs": [
    {
     "data": {
      "image/png": "[encoded data removed]",
      "text/plain": [
       "<Figure size 748.797x385.28 with 1 Axes>"
      ]
     },
     "execution_count": 68,
     "metadata": {},
     "output_type": "execute_result"
    }
   ],
   "source": [
    "from qiskit.circuit.library import EfficientSU2\n",
    "\n",
    "num_qubits = Natoms\n",
    "# the rotation gates are chosen randomly, so we set a seed for reproducibility\n",
    "ansatz = EfficientSU2(num_qubits, reps=1, entanglement='linear', insert_barriers=True) \n",
    "ansatz.decompose().draw('mpl', style='iqx')"
   ]
  },
  {
   "cell_type": "markdown",
   "id": "ef40c62d",
   "metadata": {},
   "source": [
    "##### Scelta di ottimizzatore vqe"
   ]
  },
  {
   "cell_type": "markdown",
   "id": "30ea4f3c",
   "metadata": {},
   "source": [
    "Scegliamo l'ottimizzatore per il VQE fra `SPSA`, `COBYLA` ecc.: "
   ]
  },
  {
   "cell_type": "code",
   "execution_count": 69,
   "id": "889eb376",
   "metadata": {},
   "outputs": [],
   "source": [
    "import numpy as np\n",
    "from qiskit.algorithms.optimizers import SPSA\n",
    "\n",
    "\n",
    "maxiter=400 #Numero di iterazioni massime (con 50 nel range tra simmetrico 1.8 converge molto molto poco)\n",
    "\n",
    "optimizer = SPSA(maxiter=maxiter)\n",
    "\n",
    "np.random.seed(10)  # seed for reproducibility\n",
    "initial_point = np.random.random(ansatz.num_parameters)"
   ]
  },
  {
   "cell_type": "markdown",
   "id": "92390df9",
   "metadata": {},
   "source": [
    "#### Local VQE"
   ]
  },
  {
   "cell_type": "markdown",
   "id": "47950e3b",
   "metadata": {},
   "source": [
    "Inizializziamo con QasmSimulatorPy, il simulatore locale della vqe. "
   ]
  },
  {
   "cell_type": "code",
   "execution_count": 70,
   "id": "a6bf69ff",
   "metadata": {},
   "outputs": [],
   "source": [
    "from qiskit.providers.basicaer import QasmSimulatorPy  # local simulator\n",
    "from qiskit.algorithms import VQE\n",
    "\n",
    "local_vqe = VQE(ansatz=ansatz,\n",
    "                optimizer=optimizer,\n",
    "                initial_point=initial_point,\n",
    "                quantum_instance=QasmSimulatorPy(),\n",
    "                callback=callback)"
   ]
  },
  {
   "cell_type": "markdown",
   "id": "1521758f",
   "metadata": {},
   "source": [
    "Inizializziamo funzioni di callback"
   ]
  },
  {
   "cell_type": "code",
   "execution_count": 71,
   "id": "dec4c437",
   "metadata": {},
   "outputs": [
    {
     "data": {
      "text/plain": [
       "'1a iterazione di 10'"
      ]
     },
     "metadata": {},
     "output_type": "display_data"
    },
    {
     "ename": "IndexError",
     "evalue": "list index out of range",
     "output_type": "error",
     "traceback": [
      "\u001b[0;31m---------------------------------------------------------------------------\u001b[0m",
      "\u001b[0;31mIndexError\u001b[0m                                Traceback (most recent call last)",
      "\u001b[0;32m<ipython-input-71-2ced5329777a>\u001b[0m in \u001b[0;36m<module>\u001b[0;34m\u001b[0m\n\u001b[0;32m----> 1\u001b[0;31m \u001b[0mqGSEigE\u001b[0m\u001b[0;34m,\u001b[0m \u001b[0mmeanerr\u001b[0m \u001b[0;34m=\u001b[0m \u001b[0mVQE_par_H_diagonalizer\u001b[0m\u001b[0;34m(\u001b[0m\u001b[0mlocal_vqe\u001b[0m\u001b[0;34m,\u001b[0m\u001b[0mqH\u001b[0m\u001b[0;34m)\u001b[0m\u001b[0;34m\u001b[0m\u001b[0;34m\u001b[0m\u001b[0m\n\u001b[0m",
      "\u001b[0;32m<ipython-input-33-beb7ae4a67df>\u001b[0m in \u001b[0;36mVQE_par_H_diagonalizer\u001b[0;34m(local_vqe, *H)\u001b[0m\n\u001b[1;32m     23\u001b[0m         \u001b[0mGSvals\u001b[0m\u001b[0;34m.\u001b[0m\u001b[0mappend\u001b[0m\u001b[0;34m(\u001b[0m\u001b[0mnp\u001b[0m\u001b[0;34m.\u001b[0m\u001b[0mreal\u001b[0m\u001b[0;34m(\u001b[0m\u001b[0mlocal_result\u001b[0m\u001b[0;34m.\u001b[0m\u001b[0meigenvalue\u001b[0m\u001b[0;34m)\u001b[0m\u001b[0;34m)\u001b[0m\u001b[0;34m\u001b[0m\u001b[0;34m\u001b[0m\u001b[0m\n\u001b[1;32m     24\u001b[0m \u001b[0;34m\u001b[0m\u001b[0m\n\u001b[0;32m---> 25\u001b[0;31m         \u001b[0mmeanerr\u001b[0m\u001b[0;34m.\u001b[0m\u001b[0mappend\u001b[0m\u001b[0;34m(\u001b[0m\u001b[0mintermediate_info\u001b[0m\u001b[0;34m[\u001b[0m\u001b[0;34m'stddev'\u001b[0m\u001b[0;34m]\u001b[0m\u001b[0;34m[\u001b[0m\u001b[0;34m-\u001b[0m\u001b[0;36m1\u001b[0m\u001b[0;34m]\u001b[0m\u001b[0;34m)\u001b[0m\u001b[0;34m\u001b[0m\u001b[0;34m\u001b[0m\u001b[0m\n\u001b[0m\u001b[1;32m     26\u001b[0m \u001b[0;34m\u001b[0m\u001b[0m\n\u001b[1;32m     27\u001b[0m     \u001b[0mipd_clear\u001b[0m\u001b[0;34m(\u001b[0m\u001b[0mwait\u001b[0m\u001b[0;34m=\u001b[0m\u001b[0;32mTrue\u001b[0m\u001b[0;34m)\u001b[0m\u001b[0;34m\u001b[0m\u001b[0;34m\u001b[0m\u001b[0m\n",
      "\u001b[0;31mIndexError\u001b[0m: list index out of range"
     ]
    }
   ],
   "source": [
    "qGSEigE, meanerr = VQE_par_H_diagonalizer(local_vqe,qH)"
   ]
  },
  {
   "cell_type": "code",
   "execution_count": 8,
   "id": "401d8902",
   "metadata": {},
   "outputs": [],
   "source": [
    "intermediate_info = {\n",
    "    'nfev': [],\n",
    "    'parameters': [],\n",
    "    'energy': [],\n",
    "    'stddev': []\n",
    "}\n"
   ]
  },
  {
   "cell_type": "code",
   "execution_count": 35,
   "id": "bd19e62c",
   "metadata": {},
   "outputs": [
    {
     "name": "stdout",
     "output_type": "stream",
     "text": [
      "Eigenvalues: Mean error:\n",
      "-12.013671875 0.060718753869669614\n",
      "-6.0 0.0625352759945407\n",
      "-3.044921875 0.03417767110053892\n"
     ]
    }
   ],
   "source": [
    "print('Eigenvalues:','Mean error:')\n",
    "for i in range(len(qGSEigE)):\n",
    "    print(qGSEigE[i],meanerr[i])"
   ]
  },
  {
   "cell_type": "code",
   "execution_count": 36,
   "id": "9ffeac44",
   "metadata": {},
   "outputs": [
    {
     "data": {
      "image/png": "[encoded data removed]",
      "text/plain": [
       "<Figure size 900x600 with 1 Axes>"
      ]
     },
     "metadata": {
      "needs_background": "light"
     },
     "output_type": "display_data"
    }
   ],
   "source": [
    "plot_tot([cGSEigE, EigE, qGSEigE])"
   ]
  },
  {
   "cell_type": "markdown",
   "id": "936e2851",
   "metadata": {},
   "source": [
    "##### Problema risolto, era l'hamiltoniana sbagliata\n",
    "Visualizzo il grafico con i risultati classici e della VQE: Strano, tutte le energie di vqe sono abbastanza sicure di essere sotto il gs. Proviamo a controllare che le hamiltoniane siano uguali:"
   ]
  },
  {
   "cell_type": "code",
   "execution_count": 2,
   "id": "ad7ca0a8",
   "metadata": {},
   "outputs": [
    {
     "ename": "NameError",
     "evalue": "name 'B' is not defined",
     "output_type": "error",
     "traceback": [
      "\u001b[0;31m---------------------------------------------------------------------------\u001b[0m",
      "\u001b[0;31mNameError\u001b[0m                                 Traceback (most recent call last)",
      "\u001b[0;32m<ipython-input-2-63c91d85207d>\u001b[0m in \u001b[0;36m<module>\u001b[0;34m\u001b[0m\n\u001b[0;32m----> 1\u001b[0;31m \u001b[0;32mfor\u001b[0m \u001b[0mk\u001b[0m \u001b[0;32min\u001b[0m \u001b[0mrange\u001b[0m\u001b[0;34m(\u001b[0m\u001b[0mlen\u001b[0m\u001b[0;34m(\u001b[0m\u001b[0mB\u001b[0m\u001b[0;34m)\u001b[0m\u001b[0;34m)\u001b[0m\u001b[0;34m:\u001b[0m\u001b[0;34m\u001b[0m\u001b[0;34m\u001b[0m\u001b[0m\n\u001b[0m\u001b[1;32m      2\u001b[0m     \u001b[0mprint\u001b[0m\u001b[0;34m(\u001b[0m\u001b[0mnp\u001b[0m\u001b[0;34m.\u001b[0m\u001b[0mnonzero\u001b[0m\u001b[0;34m(\u001b[0m\u001b[0;34m(\u001b[0m\u001b[0mOperator\u001b[0m\u001b[0;34m(\u001b[0m\u001b[0mqH\u001b[0m\u001b[0;34m[\u001b[0m\u001b[0mk\u001b[0m\u001b[0;34m]\u001b[0m\u001b[0;34m)\u001b[0m\u001b[0;34m-\u001b[0m\u001b[0mcH\u001b[0m\u001b[0;34m[\u001b[0m\u001b[0mk\u001b[0m\u001b[0;34m]\u001b[0m\u001b[0;34m)\u001b[0m\u001b[0;34m)\u001b[0m\u001b[0;34m)\u001b[0m\u001b[0;34m\u001b[0m\u001b[0;34m\u001b[0m\u001b[0m\n",
      "\u001b[0;31mNameError\u001b[0m: name 'B' is not defined"
     ]
    }
   ],
   "source": [
    "for k in range(len(B)):\n",
    "    print(np.nonzero((Operator(qH[k])-cH[k])))"
   ]
  },
  {
   "cell_type": "markdown",
   "id": "ba310329",
   "metadata": {},
   "source": [
    "#### Hardware/Simulator VQE"
   ]
  },
  {
   "cell_type": "markdown",
   "id": "8534afa1",
   "metadata": {},
   "source": [
    "Proviamo con Hardware reale"
   ]
  },
  {
   "cell_type": "code",
   "execution_count": 3,
   "id": "c16356f2",
   "metadata": {},
   "outputs": [
    {
     "ename": "ImportError",
     "evalue": "cannot import name 'VQEClient' from 'qiskit_nature.runtime' (/home/heron/anaconda3/lib/python3.8/site-packages/qiskit_nature/runtime/__init__.py)",
     "output_type": "error",
     "traceback": [
      "\u001b[0;31m---------------------------------------------------------------------------\u001b[0m",
      "\u001b[0;31mImportError\u001b[0m                               Traceback (most recent call last)",
      "\u001b[0;32m<ipython-input-3-afe209ab0d81>\u001b[0m in \u001b[0;36m<module>\u001b[0;34m\u001b[0m\n\u001b[1;32m      8\u001b[0m \u001b[0;32mfrom\u001b[0m \u001b[0mqiskit\u001b[0m\u001b[0;34m.\u001b[0m\u001b[0mproviders\u001b[0m\u001b[0;34m.\u001b[0m\u001b[0mmodels\u001b[0m \u001b[0;32mimport\u001b[0m \u001b[0mBackendProperties\u001b[0m\u001b[0;34m\u001b[0m\u001b[0;34m\u001b[0m\u001b[0m\n\u001b[1;32m      9\u001b[0m \u001b[0;32mfrom\u001b[0m \u001b[0mqiskit\u001b[0m\u001b[0;34m.\u001b[0m\u001b[0mproviders\u001b[0m\u001b[0;34m.\u001b[0m\u001b[0maer\u001b[0m \u001b[0;32mimport\u001b[0m \u001b[0mnoise\u001b[0m\u001b[0;34m\u001b[0m\u001b[0;34m\u001b[0m\u001b[0m\n\u001b[0;32m---> 10\u001b[0;31m \u001b[0;32mfrom\u001b[0m \u001b[0mqiskit_nature\u001b[0m\u001b[0;34m.\u001b[0m\u001b[0mruntime\u001b[0m \u001b[0;32mimport\u001b[0m \u001b[0mVQEProgram\u001b[0m\u001b[0;34m,\u001b[0m \u001b[0mVQEClient\u001b[0m\u001b[0;34m\u001b[0m\u001b[0;34m\u001b[0m\u001b[0m\n\u001b[0m\u001b[1;32m     11\u001b[0m \u001b[0;32mfrom\u001b[0m \u001b[0mqiskit\u001b[0m\u001b[0;34m.\u001b[0m\u001b[0mtest\u001b[0m\u001b[0;34m.\u001b[0m\u001b[0mmock\u001b[0m \u001b[0;32mimport\u001b[0m \u001b[0mFakeVigo\u001b[0m\u001b[0;34m\u001b[0m\u001b[0;34m\u001b[0m\u001b[0m\n\u001b[1;32m     12\u001b[0m \u001b[0;34m\u001b[0m\u001b[0m\n",
      "\u001b[0;31mImportError\u001b[0m: cannot import name 'VQEClient' from 'qiskit_nature.runtime' (/home/heron/anaconda3/lib/python3.8/site-packages/qiskit_nature/runtime/__init__.py)"
     ]
    }
   ],
   "source": [
    "from qiskit.quantum_info import Kraus, SuperOp\n",
    "from qiskit.providers.aer import QasmSimulator\n",
    "from qiskit.providers.aer.noise import NoiseModel\n",
    "from qiskit.providers.aer.noise import QuantumError, ReadoutError\n",
    "from qiskit.providers.aer.noise import pauli_error\n",
    "from qiskit.providers.aer.noise import depolarizing_error\n",
    "from qiskit.providers.aer.noise import thermal_relaxation_error\n",
    "from qiskit.providers.models import BackendProperties\n",
    "from qiskit.providers.aer import noise\n",
    "from qiskit_nature.runtime import VQEProgram, VQEClient\n",
    "from qiskit.test.mock import FakeVigo\n",
    "\n",
    "from qiskit.tools.monitor import job_monitor\n",
    "from qiskit.algorithms.optimizers import SPSA, COBYLA\n",
    "from qiskit import IBMQ\n",
    "from qiskit.providers.ibmq import least_busy #si può cercare l'equivalente Aer\n",
    "from qiskit import Aer\n",
    "from qiskit.utils import QuantumInstance\n",
    "\n",
    "from qiskit.tools.visualization import plot_histogram, plot_state_city\n",
    "import qiskit.quantum_info as qi"
   ]
  },
  {
   "cell_type": "markdown",
   "id": "5866060c",
   "metadata": {},
   "source": [
    "##### Accesso a IBM Quantum"
   ]
  },
  {
   "cell_type": "code",
   "execution_count": null,
   "id": "90046221",
   "metadata": {},
   "outputs": [],
   "source": [
    "IBMQ.load_account()\n",
    "provider = IBMQ.get_provider(hub='ibm-q', group='open', project='main')"
   ]
  },
  {
   "cell_type": "markdown",
   "id": "ed1f1c56",
   "metadata": {},
   "source": [
    "##### Assegnazione dell'hardware e configurazione dell'esecuzione"
   ]
  },
  {
   "cell_type": "markdown",
   "id": "68490535",
   "metadata": {},
   "source": [
    "Funzione che costruisce prima la quantum instance, poi l'istanza della VQE a partire dai parametri immessi dall'utente relativamente a:\n",
    "- strumentazione: hardware, simulatore con/senza rumore;\n",
    "- numero di <i>shots</i>;\n",
    "- ottimizzatore: SPSA, COBYLA ecc.:"
   ]
  },
  {
   "cell_type": "code",
   "execution_count": 4,
   "id": "120ba68f",
   "metadata": {},
   "outputs": [],
   "source": [
    "def Custom_VQE_diag(BK,shots,optimizer):\n",
    "    \n",
    "    #Parte 1: definisco la quantum_instance\n",
    "    \n",
    "    #HW = 'ibmq_belem'\n",
    "    BK = \"hardware\" # \"IBMnoisy\", \"Aernoisy\", \"noiseless\", \"hardware\"\n",
    "\n",
    "    if BK == \"noiseless\":\n",
    "\n",
    "        backend = Aer.get_backend(\"aer_simulator\")\n",
    "        quantum_instance = QuantumInstance(backend,\n",
    "                                           shots=shots)\n",
    "\n",
    "        print(quantum_instance)\n",
    "\n",
    "    if BK == \"IBMnoisy\":\n",
    "\n",
    "        #device = IBMQ.get_provider().get_backend(HW)\n",
    "        backend = least_busy(provider.backends(filters=lambda x: x.configuration().n_qubits >= Natoms and x.configuration().simulator))\n",
    "        prop = backend.properties()\n",
    "        #print(dir(backend.configuration()))\n",
    "        #print(dir(backend.options))\n",
    "\n",
    "        coupling_map = backend.configuration().coupling_map\n",
    "        noise_model = backend.options.noise_model\n",
    "        basis_gates = backend.configuration().basis_gates\n",
    "\n",
    "        #backend = Aer.get_backend('qasm_simulator')\n",
    "        quantum_instance = QuantumInstance(backend,\n",
    "                                           shots=shots,\n",
    "                                           noise_model=noise_model,\n",
    "                                           basis_gates=basis_gates,\n",
    "                                           coupling_map=coupling_map)\n",
    "\n",
    "        print(quantum_instance)\n",
    "\n",
    "    if BK == \"Aernoisy\":\n",
    "\n",
    "        #Aer.backends()\n",
    "        backend = Aer.get_backend('aer_simulator')\n",
    "        #prop = backend.properties()\n",
    "        #print(dir(backend))\n",
    "\n",
    "        #Prendo i modelli per la simulazione con rumore da FakeVigo\n",
    "        device = QasmSimulator.from_backend(FakeVigo())\n",
    "        \n",
    "        coupling_map = device.configuration().coupling_map\n",
    "        noise_model = NoiseModel.from_backend(device)\n",
    "        basis_gates = noise_model.basis_gates\n",
    "\n",
    "        #seed = 170\n",
    "        #iterations = 125\n",
    "        #algorithm_globals.random_seed = seed\n",
    "\n",
    "        quantum_instance = QuantumInstance(backend,\n",
    "                                           noise_model=noise_model,\n",
    "                                           basis_gates=basis_gates,\n",
    "                                           seed_simulator=seed,\n",
    "                                           seed_transpiler=seed,\n",
    "                                           coupling_map=coupling_map)\n",
    "\n",
    "        print(quantum_instance)\n",
    "\n",
    "    if BK == \"hardware\":\n",
    "\n",
    "        backend = least_busy(provider.backends(filters=lambda x: x.configuration().n_qubits >= Natoms and not x.configuration().simulator))\n",
    "        print(backend)\n",
    "        \n",
    "    #Parte 2: definisco l'istanza della VQE\n",
    "        \n",
    "    if BK in (\"IBMnoisy\"):\n",
    "        \n",
    "        #VQEProgram invece di VQE(usata in sim locale)\n",
    "        vqe = VQEProgram(ansatz=ansatz,\n",
    "                 optimizer=optimizer,\n",
    "                 initial_point=initial_point,\n",
    "                 provider=provider, ##\n",
    "                 backend=backend, ##\n",
    "                 shots=shots, ##\n",
    "                 measurement_error_mitigation=measurement_error_mitigation, ##\n",
    "                 quantum_instance=quantum_instance, ####\n",
    "                 callback=callback)\n",
    "\n",
    "    if BK in (\"hardware\"):\n",
    "        \n",
    "        #VQEProgram o VQEClient?\n",
    "        vqe = VQEProgram(ansatz=ansatz,\n",
    "                 optimizer=optimizer,\n",
    "                 initial_point=initial_point,\n",
    "                 provider=provider, ##\n",
    "                 backend=backend, ##\n",
    "                 shots=shots, ##\n",
    "                 measurement_error_mitigation=measurement_error_mitigation, ##\n",
    "                 callback=callback)\n",
    "\n",
    "    if BK in (\"Aernoisy\",\"noiseless\"):\n",
    "        \n",
    "        vqe = VQE(ansatz=ansatz,\n",
    "                 optimizer=optimizer,\n",
    "                 initial_point=initial_point,\n",
    "                 quantum_instance=quantum_instance,\n",
    "                 callback=callback)    \n",
    "        \n",
    "    qGSEigE, meanerr = VQE_par_H_diagonalizer(vqe,qH)\n",
    "    \n",
    "    return qGSEigE, meanerr"
   ]
  },
  {
   "cell_type": "markdown",
   "id": "37549f5e",
   "metadata": {},
   "source": [
    "Impostazione dei parametri di strumentazione, <i>shots</i>, ottimizzatore e chiamata della funzione che esegue la VQE:"
   ]
  },
  {
   "cell_type": "code",
   "execution_count": 8,
   "id": "7ba0cfb1",
   "metadata": {},
   "outputs": [
    {
     "ename": "NameError",
     "evalue": "name 'COBYLA' is not defined",
     "output_type": "error",
     "traceback": [
      "\u001b[0;31m---------------------------------------------------------------------------\u001b[0m",
      "\u001b[0;31mNameError\u001b[0m                                 Traceback (most recent call last)",
      "\u001b[0;32m<ipython-input-8-b66736e77cd9>\u001b[0m in \u001b[0;36m<module>\u001b[0;34m\u001b[0m\n\u001b[1;32m      3\u001b[0m \u001b[0;31m# in this first release, the optimizer must be specified as dictionary\u001b[0m\u001b[0;34m\u001b[0m\u001b[0;34m\u001b[0m\u001b[0;34m\u001b[0m\u001b[0m\n\u001b[1;32m      4\u001b[0m \u001b[0;31m#optimizer = {'name': 'SPSA', 'maxiter': 50}\u001b[0m\u001b[0;34m\u001b[0m\u001b[0;34m\u001b[0m\u001b[0;34m\u001b[0m\u001b[0m\n\u001b[0;32m----> 5\u001b[0;31m \u001b[0moptimizer\u001b[0m \u001b[0;34m=\u001b[0m \u001b[0mCOBYLA\u001b[0m\u001b[0;34m(\u001b[0m\u001b[0mmaxiter\u001b[0m\u001b[0;34m=\u001b[0m\u001b[0;36m50\u001b[0m\u001b[0;34m,\u001b[0m \u001b[0mtol\u001b[0m\u001b[0;34m=\u001b[0m\u001b[0;36m0.001\u001b[0m\u001b[0;34m,\u001b[0m \u001b[0mrhobeg\u001b[0m\u001b[0;34m=\u001b[0m\u001b[0;36m1.0\u001b[0m\u001b[0;34m)\u001b[0m\u001b[0;34m\u001b[0m\u001b[0;34m\u001b[0m\u001b[0m\n\u001b[0m\u001b[1;32m      6\u001b[0m \u001b[0;34m\u001b[0m\u001b[0m\n\u001b[1;32m      7\u001b[0m \u001b[0mmeasurement_error_mitigation\u001b[0m \u001b[0;34m=\u001b[0m \u001b[0;32mTrue\u001b[0m\u001b[0;34m\u001b[0m\u001b[0;34m\u001b[0m\u001b[0m\n",
      "\u001b[0;31mNameError\u001b[0m: name 'COBYLA' is not defined"
     ]
    }
   ],
   "source": [
    "shots = 1024\n",
    "\n",
    "# in this first release, the optimizer must be specified as dictionary\n",
    "#optimizer = {'name': 'SPSA', 'maxiter': 50}\n",
    "optimizer = COBYLA(maxiter=50, tol=0.001, rhobeg=1.0)\n",
    "\n",
    "measurement_error_mitigation = True\n",
    "\n",
    "qGSEigE1, meanerr1 = Custom_VQE_diag(\"IBMnoisy\",shots,optimizer)"
   ]
  },
  {
   "cell_type": "markdown",
   "id": "e0f7089b",
   "metadata": {},
   "source": [
    "##### Risultati"
   ]
  },
  {
   "cell_type": "code",
   "execution_count": 9,
   "id": "74d6074a",
   "metadata": {},
   "outputs": [
    {
     "name": "stdout",
     "output_type": "stream",
     "text": [
      "Eigenvalues: Mean error:\n"
     ]
    },
    {
     "ename": "NameError",
     "evalue": "name 'qGSEigE1' is not defined",
     "output_type": "error",
     "traceback": [
      "\u001b[0;31m---------------------------------------------------------------------------\u001b[0m",
      "\u001b[0;31mNameError\u001b[0m                                 Traceback (most recent call last)",
      "\u001b[0;32m<ipython-input-9-63dd294b515e>\u001b[0m in \u001b[0;36m<module>\u001b[0;34m\u001b[0m\n\u001b[1;32m      1\u001b[0m \u001b[0mprint\u001b[0m\u001b[0;34m(\u001b[0m\u001b[0;34m'Eigenvalues:'\u001b[0m\u001b[0;34m,\u001b[0m\u001b[0;34m'Mean error:'\u001b[0m\u001b[0;34m)\u001b[0m\u001b[0;34m\u001b[0m\u001b[0;34m\u001b[0m\u001b[0m\n\u001b[0;32m----> 2\u001b[0;31m \u001b[0;32mfor\u001b[0m \u001b[0mi\u001b[0m \u001b[0;32min\u001b[0m \u001b[0mrange\u001b[0m\u001b[0;34m(\u001b[0m\u001b[0mlen\u001b[0m\u001b[0;34m(\u001b[0m\u001b[0mqGSEigE1\u001b[0m\u001b[0;34m)\u001b[0m\u001b[0;34m)\u001b[0m\u001b[0;34m:\u001b[0m\u001b[0;34m\u001b[0m\u001b[0;34m\u001b[0m\u001b[0m\n\u001b[0m\u001b[1;32m      3\u001b[0m     \u001b[0mprint\u001b[0m\u001b[0;34m(\u001b[0m\u001b[0mqGSEigE1\u001b[0m\u001b[0;34m[\u001b[0m\u001b[0mi\u001b[0m\u001b[0;34m]\u001b[0m\u001b[0;34m,\u001b[0m\u001b[0mmeanerr1\u001b[0m\u001b[0;34m[\u001b[0m\u001b[0mi\u001b[0m\u001b[0;34m]\u001b[0m\u001b[0;34m)\u001b[0m\u001b[0;34m\u001b[0m\u001b[0;34m\u001b[0m\u001b[0m\n",
      "\u001b[0;31mNameError\u001b[0m: name 'qGSEigE1' is not defined"
     ]
    }
   ],
   "source": [
    "print('Eigenvalues:','Mean error:')\n",
    "for i in range(len(qGSEigE1)):\n",
    "    print(qGSEigE1[i],meanerr1[i])"
   ]
  },
  {
   "cell_type": "code",
   "execution_count": 10,
   "id": "32fda715",
   "metadata": {},
   "outputs": [
    {
     "ename": "NameError",
     "evalue": "name 'plot_tot' is not defined",
     "output_type": "error",
     "traceback": [
      "\u001b[0;31m---------------------------------------------------------------------------\u001b[0m",
      "\u001b[0;31mNameError\u001b[0m                                 Traceback (most recent call last)",
      "\u001b[0;32m<ipython-input-10-998f8715d632>\u001b[0m in \u001b[0;36m<module>\u001b[0;34m\u001b[0m\n\u001b[0;32m----> 1\u001b[0;31m \u001b[0mplot_tot\u001b[0m\u001b[0;34m(\u001b[0m\u001b[0;34m[\u001b[0m\u001b[0mcGSEigE\u001b[0m\u001b[0;34m,\u001b[0m \u001b[0mEigE\u001b[0m\u001b[0;34m,\u001b[0m \u001b[0mqGSEigE\u001b[0m\u001b[0;34m,\u001b[0m \u001b[0mqGSEigE1\u001b[0m\u001b[0;34m]\u001b[0m\u001b[0;34m)\u001b[0m\u001b[0;34m\u001b[0m\u001b[0;34m\u001b[0m\u001b[0m\n\u001b[0m",
      "\u001b[0;31mNameError\u001b[0m: name 'plot_tot' is not defined"
     ]
    }
   ],
   "source": [
    "plot_tot([cGSEigE, EigE, qGSEigE, qGSEigE1])"
   ]
  },
  {
   "cell_type": "markdown",
   "id": "fc6dc160",
   "metadata": {},
   "source": [
    "## Confronto tra ottimizzatori"
   ]
  },
  {
   "cell_type": "markdown",
   "id": "418f9ffc",
   "metadata": {},
   "source": [
    "A seconda del tipo di ottimizzatore ci aspettiamo performance diverse: Utilizzia gli ottimizzatori COBYLA, L_BFGS, SLSQP, SPSA. Hanno tutti caratteristiche diverse.\n",
    "\n",
    "###### Questa parte di codice è importata dal main-checkpoint di Carlo, ho provato a integrare al meglio le funzioni definite prima ma potrebbero esserci ripetizioni"
   ]
  },
  {
   "cell_type": "code",
   "execution_count": null,
   "id": "42d5c8b2",
   "metadata": {},
   "outputs": [],
   "source": [
    "from IPython.display import display as ipd_display, clear_output as ipd_clear\n",
    "import numpy as np\n",
    "import pylab\n",
    "\n",
    "\n",
    "#from qiskit.providers.basicaer import QasmSimulatorPy                       # local simulator\n",
    "from qiskit import Aer                                               #Uso statevector perché più veloce, però non ha errori, altrimenti usa qasm_simulator\n",
    "from qiskit.utils import QuantumInstance, algorithm_globals\n",
    "from qiskit.algorithms import VQE, NumPyMinimumEigensolver\n",
    "from qiskit.algorithms.optimizers import COBYLA, L_BFGS_B, SLSQP, SPSA      #Importo gli ottimizzatori\n",
    "\n",
    "\n",
    "np.random.seed(10)  # seed for reproducibility\n",
    "initial_point = np.random.random(ansatz.num_parameters)\n",
    "\n",
    "# Lista degli ottimizzatori utilizzati\n",
    "optimizers = [COBYLA(maxiter=30), L_BFGS_B(maxiter=30), SLSQP(maxiter=30), SPSA(maxiter=30)]    #Scegliamo gli ottimizzatori\n",
    "\n",
    "\n",
    "#Inizializzo array dei valori degli ottimizzatori\n",
    "converge_nfev_qH = [np.empty([len(optimizers)], dtype=object) for z in range(len(qH))]   #Lista di ndarray, ciascuno per ogni B\n",
    "converge_parameters_qH = [np.empty([len(optimizers)], dtype=object) for z in range(len(qH))]\n",
    "converge_energy_qH = [np.empty([len(optimizers)], dtype=object) for z in range(len(qH))]\n",
    "converge_stddev_qH = [np.empty([len(optimizers)], dtype=object) for z in range(len(qH))]\n",
    "    \n",
    "qGSEigE = []    #Valori da mandare nella funzione per i grafici al variare di B\n",
    "meanerr = []    \n",
    "\n",
    "for j in range(len(qH)):    \n",
    "    for i, optimizer in enumerate(optimizers):\n",
    "        print('\\rOptimizer: {}        '.format(type(optimizer).__name__), end='')\n",
    "\n",
    "        \n",
    "        #Reset dei valori di callback\n",
    "        \n",
    "        nfev = []\n",
    "        par = []\n",
    "        energy = []\n",
    "        std = []\n",
    "        \n",
    "        ##Qui non è molto comodo usare la funzione VQE custom dialog, lasciamo l'implementazione base\n",
    "        local_vqe = VQE(ansatz=ansatz,\n",
    "                    optimizer=optimizer,\n",
    "                    initial_point=initial_point,\n",
    "                    quantum_instance=QuantumInstance(backend=Aer.get_backend('statevector_simulator')),\n",
    "                    callback=callback)\n",
    "\n",
    "        result = local_vqe.compute_minimum_eigenvalue(operator=qH[j])\n",
    "        converge_nfev_qH[j][i] = np.asarray(nfev)\n",
    "        converge_parameters_qH[j][i] = np.asarray(par)\n",
    "        converge_energy_qH[j][i] = np.asarray(energy)\n",
    "        converge_stddev_qH[j][i] = np.asarray(std)\n",
    "        \n",
    "    qGSEigE.append(converge_energy_qH[j][0][-1])                           #Scegliamo di quale ottimizzatore mostrare i\n",
    "    meanerr.append(converge_stddev_qH[j][0][-1])                           #risultati(0 sta per COBYLA) \n",
    "    ipd_display(\"%da iterazione di %d\"%(j+1,len(qH)), 'completata')\n"
   ]
  },
  {
   "cell_type": "markdown",
   "id": "1f56d50a",
   "metadata": {},
   "source": [
    "Visualizziamo le convergenze degli ottimizzatori, a B fissato."
   ]
  },
  {
   "cell_type": "markdown",
   "id": "28b44638",
   "metadata": {},
   "source": [
    "Fissiamo B=0, caso in cui ci aspettiamo massimo entanglement"
   ]
  },
  {
   "cell_type": "code",
   "execution_count": null,
   "id": "080e0e71",
   "metadata": {},
   "outputs": [],
   "source": [
    "B_fiss = 0      #Scegli quale passo di B fissare"
   ]
  },
  {
   "cell_type": "markdown",
   "id": "b7e28490",
   "metadata": {},
   "source": [
    "Energia calcolata da ogni ottimizzatore ad ogni step dell'iterazione:"
   ]
  },
  {
   "cell_type": "code",
   "execution_count": null,
   "id": "4ebca21f",
   "metadata": {},
   "outputs": [],
   "source": [
    "pylab.rcParams['figure.figsize'] = (12, 8)\n",
    "for i, optimizer in enumerate(optimizers):\n",
    "    pylab.plot(converge_nfev_qH[B_fiss][i], converge_energy_qH[B_fiss][i], label=type(optimizer).__name__)\n",
    "pylab.xlabel('Eval count')\n",
    "pylab.ylabel('Energy')\n",
    "pylab.title('Energy convergence for various optimizers')\n",
    "pylab.legend(loc='upper right');"
   ]
  },
  {
   "cell_type": "markdown",
   "id": "d1930044",
   "metadata": {},
   "source": [
    "Commenti: perchè L_BFGS_B ha quel picco tra 0 e 50 valutazioni?"
   ]
  },
  {
   "cell_type": "markdown",
   "id": "3c0a1447",
   "metadata": {},
   "source": [
    "Ora vediamo quale ottimizzatore converge più velocemente rispetto al valore trovato classicamente (in percentuale):"
   ]
  },
  {
   "cell_type": "code",
   "execution_count": null,
   "id": "45fbe7f9",
   "metadata": {},
   "outputs": [],
   "source": [
    "pylab.rcParams['figure.figsize'] = (12, 8)\n",
    "for i, optimizer in enumerate(optimizers):\n",
    "    pylab.plot(converge_nfev_qH[B_fiss][i], abs(100*(cGSEigE[B_fiss] - converge_energy_qH[B_fiss][i])/cGSEigE[B_fiss]), label=type(optimizer).__name__)\n",
    "pylab.xlabel('Eval count')\n",
    "pylab.ylabel('Energy difference from solution reference value')\n",
    "pylab.title('Energy convergence for various optimizers')\n",
    "pylab.yscale('log')\n",
    "pylab.legend(loc='upper right');"
   ]
  },
  {
   "cell_type": "markdown",
   "id": "f1faaee1",
   "metadata": {},
   "source": [
    "Commenti: Nice"
   ]
  },
  {
   "cell_type": "code",
   "execution_count": null,
   "id": "40e82442",
   "metadata": {},
   "outputs": [],
   "source": []
  },
  {
   "cell_type": "code",
   "execution_count": null,
   "id": "d76b6407",
   "metadata": {},
   "outputs": [],
   "source": []
  }
 ],
 "metadata": {
  "kernelspec": {
   "display_name": "Python 3",
   "language": "python",
   "name": "python3"
  },
  "language_info": {
   "codemirror_mode": {
    "name": "ipython",
    "version": 3
   },
   "file_extension": ".py",
   "mimetype": "text/x-python",
   "name": "python",
   "nbconvert_exporter": "python",
   "pygments_lexer": "ipython3",
   "version": "3.8.8"
  },
  "widgets": {
   "application/vnd.jupyter.widget-state+json": {
    "state": {},
    "version_major": 2,
    "version_minor": 0
   }
  }
 },
 "nbformat": 4,
 "nbformat_minor": 5
}
